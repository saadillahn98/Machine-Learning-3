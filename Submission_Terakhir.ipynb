{
  "nbformat": 4,
  "nbformat_minor": 0,
  "metadata": {
    "colab": {
      "name": "Submission Terakhir",
      "provenance": [],
      "collapsed_sections": []
    },
    "kernelspec": {
      "name": "python3",
      "display_name": "Python 3"
    },
    "language_info": {
      "name": "python"
    },
    "accelerator": "GPU"
  },
  "cells": [
    {
      "cell_type": "markdown",
      "metadata": {
        "id": "cH9vTWtYEmw_"
      },
      "source": [
        "**IMAGE CLASSIFICATION PROJECT**<br>\n",
        "Dibuat oleh : Saadillah Noer<br>\n",
        "Email : saadillahnoer@gmail.com"
      ]
    },
    {
      "cell_type": "markdown",
      "metadata": {
        "id": "NcUcwOAjEw8_"
      },
      "source": [
        "**Import Libraries**<br>"
      ]
    },
    {
      "cell_type": "code",
      "metadata": {
        "colab": {
          "base_uri": "https://localhost:8080/",
          "height": 35
        },
        "id": "t3f_BQpTE1kU",
        "outputId": "aae14122-03ef-41ef-f6ec-bdd2b15c7991"
      },
      "source": [
        "import tensorflow as tf\n",
        "tf.test.gpu_device_name()"
      ],
      "execution_count": 7,
      "outputs": [
        {
          "output_type": "execute_result",
          "data": {
            "application/vnd.google.colaboratory.intrinsic+json": {
              "type": "string"
            },
            "text/plain": [
              "'/device:GPU:0'"
            ]
          },
          "metadata": {
            "tags": []
          },
          "execution_count": 7
        }
      ]
    },
    {
      "cell_type": "code",
      "metadata": {
        "colab": {
          "base_uri": "https://localhost:8080/"
        },
        "id": "Nq4NJ6R2GAgi",
        "outputId": "94bb2475-aff5-4398-84f8-3d161596dddd"
      },
      "source": [
        "from tensorflow.python.client import device_lib\n",
        "device_lib.list_local_devices()"
      ],
      "execution_count": 8,
      "outputs": [
        {
          "output_type": "execute_result",
          "data": {
            "text/plain": [
              "[name: \"/device:CPU:0\"\n",
              " device_type: \"CPU\"\n",
              " memory_limit: 268435456\n",
              " locality {\n",
              " }\n",
              " incarnation: 11163435075002309352, name: \"/device:GPU:0\"\n",
              " device_type: \"GPU\"\n",
              " memory_limit: 14509932544\n",
              " locality {\n",
              "   bus_id: 1\n",
              "   links {\n",
              "   }\n",
              " }\n",
              " incarnation: 14518568135522780843\n",
              " physical_device_desc: \"device: 0, name: Tesla T4, pci bus id: 0000:00:04.0, compute capability: 7.5\"]"
            ]
          },
          "metadata": {
            "tags": []
          },
          "execution_count": 8
        }
      ]
    },
    {
      "cell_type": "code",
      "metadata": {
        "id": "RuKY7O41GOqI"
      },
      "source": [
        "import matplotlib.pyplot as plt\n",
        "import numpy as np\n",
        "import os\n",
        "import PIL\n",
        "import tensorflow as tf\n",
        "\n",
        "from tensorflow import keras\n",
        "from tensorflow.keras import layers\n",
        "from tensorflow.keras.models import Sequential"
      ],
      "execution_count": 9,
      "outputs": []
    },
    {
      "cell_type": "code",
      "metadata": {
        "colab": {
          "base_uri": "https://localhost:8080/"
        },
        "id": "ZT64PmB2Go6f",
        "outputId": "7c7d730b-7854-4e96-a418-8ab3c18c218f"
      },
      "source": [
        "from google.colab import drive\n",
        "drive.mount('/content/drive')"
      ],
      "execution_count": 10,
      "outputs": [
        {
          "output_type": "stream",
          "text": [
            "Drive already mounted at /content/drive; to attempt to forcibly remount, call drive.mount(\"/content/drive\", force_remount=True).\n"
          ],
          "name": "stdout"
        }
      ]
    },
    {
      "cell_type": "code",
      "metadata": {
        "id": "7fXEwjpwctAQ"
      },
      "source": [
        "import os\n",
        "os.environ['KAGGLE_CONFIG_DIR'] = \"/content/drive/MyDrive/Dataset_img\""
      ],
      "execution_count": 11,
      "outputs": []
    },
    {
      "cell_type": "code",
      "metadata": {
        "colab": {
          "base_uri": "https://localhost:8080/"
        },
        "id": "4OLADcqddDhD",
        "outputId": "af4275f3-c85f-47b5-e103-b1f803780872"
      },
      "source": [
        "%cd /content/drive/MyDrive/"
      ],
      "execution_count": 12,
      "outputs": [
        {
          "output_type": "stream",
          "text": [
            "/content/drive/MyDrive\n"
          ],
          "name": "stdout"
        }
      ]
    },
    {
      "cell_type": "code",
      "metadata": {
        "colab": {
          "base_uri": "https://localhost:8080/"
        },
        "id": "M71BrSP2faLs",
        "outputId": "f00a1bc6-2530-471d-aa5a-0858576ee3ff"
      },
      "source": [
        "!ls"
      ],
      "execution_count": 13,
      "outputs": [
        {
          "output_type": "stream",
          "text": [
            "'A & D'\n",
            "'Album Wedding '\n",
            " BDG_001.JPG\n",
            " BDG_002.JPG\n",
            "'Berkas Lamaran (1).pdf'\n",
            "'Berkas Lamaran.pdf'\n",
            "'BERKAS PENDUKUNG (1).pdf'\n",
            "'CETAK '\n",
            " convertio.co\n",
            "'COVER LATTER.pdf'\n",
            "'COVER LATTER PT GOJEK 2.pdf'\n",
            "'COVER LATTER PT GOJEK 3.pdf'\n",
            "'COVER LATTER PT GOJEK.pdf'\n",
            "'CURRICULUM VITAE (1).pdf'\n",
            "'CURRICULUM VITAE (2).pdf'\n",
            "'CURRICULUM VITAE (3).pdf'\n",
            "'CURRICULUM VITAE.pdf'\n",
            "'CV DILLAH TERBARU.pdf'\n",
            "'CV SAADILLAH NOER.pdf'\n",
            "'DAFTAR RIWAYAT HIDUP-1 (1).pdf'\n",
            "'DAFTAR RIWAYAT HIDUP-1.pdf'\n",
            "'DAFTAR RIWAYAT HIDUP.pdf'\n",
            " Dataset_img\n",
            "'D & I'\n",
            " DSC-0034.JPG\n",
            " DSC-0035.JPG\n",
            " DSC-0036.JPG\n",
            " DSC_3948.jpg\n",
            " DSC-6251.JPG\n",
            " DSC-6252.JPG\n",
            " DSC-6286-2.JPG\n",
            " DSC-6556.JPG\n",
            " DSC-6557.JPG\n",
            " DSC-6558.JPG\n",
            " DSC-6559.JPG\n",
            " DSC_6706.jpg\n",
            " DSC_6712.jpg\n",
            " DSC_6713.jpg\n",
            " DSC_6714.jpg\n",
            " DSC_6720.jpg\n",
            " DSC_6721.jpg\n",
            " DSC_6722.jpg\n",
            " DSC_6725.jpg\n",
            " DSC_6728.jpg\n",
            " DSC_6736.jpg\n",
            " DSC_6744.jpg\n",
            " DSC_6745.jpg\n",
            " DSC_6747.jpg\n",
            " DSC_6750.jpg\n",
            " DSC_6758.jpg\n",
            " DSC_6759.jpg\n",
            "'EDITAN WISUDA'\n",
            "'EDITING 06.jpg'\n",
            "'EDITING 07.jpg'\n",
            " FAIZAH\n",
            "'Foto 001.JPG'\n",
            "'FOTO 001.JPG'\n",
            "'FOTO 008.JPG'\n",
            "'FOTO 009.JPG'\n",
            "'FOTO-(3) (1).jpg'\n",
            "'FOTO-(3).jpg'\n",
            "'FOTO 4X6 (1).jpg'\n",
            "'FOTO 4X6.jpg'\n",
            " Fruit_vegetable.zip\n",
            "'FS3G Shubuh (1).jpg'\n",
            "'FS3G Shubuh-1.jpg'\n",
            "'FS3G Shubuh.jpg'\n",
            "'G & A.JPG'\n",
            " GD_002.JPG\n",
            " GD_003.JPG\n",
            " GD_004.JPG\n",
            " GD_005.JPG\n",
            " GD_006.JPG\n",
            " GD_007.JPG\n",
            " GD_008.JPG\n",
            " GD_009.JPG\n",
            " GD_011.JPG\n",
            " GD_012.JPG\n",
            "'Guru Ubay '\n",
            "'GURU UBAY 01.JPG'\n",
            "'GURU UBAY 02.JPG'\n",
            "'GURU UBAY 03.JPG'\n",
            "'GURU UBAY 04.JPG'\n",
            "'GURU UBAY 05.JPG'\n",
            "'GURU UBAY 06.JPG'\n",
            "'GURU UBAY 07.JPG'\n",
            "'GURU UBAY 08.JPG'\n",
            "'GURU UBAY 09.JPG'\n",
            "'GURU UBAY 10.JPG'\n",
            "'GURU UBAY 11.JPG'\n",
            "'GURU UBAY 12.JPG'\n",
            "'GURU UBAY 13.JPG'\n",
            "'GURU UBAY 14.JPG'\n",
            "'IDENTITAS DIRI.pdf'\n",
            "'Image Classification - SN'\n",
            " IMG20210316153348.pdf\n",
            " IMG20210506205842.jpg\n",
            " Instagram_02.jpg\n",
            " Instagram_03.jpg\n",
            "'JADWAL IMSAKIYAH 1442 H-1.jpg'\n",
            "'JADWAL IMSAKIYAH 1442 H.jpg'\n",
            "'Kementerian PPN.pdf'\n",
            " KULTUM.jpg\n",
            "'KUVRE 002 (1).jpg'\n",
            "'KUVRE 002.jpg'\n",
            " KUVRE.jpg\n",
            "'Makeup Session'\n",
            "'Maternity Session'\n",
            "'Page 10.jpg'\n",
            "'Page 11.jpg'\n",
            "'R - D '\n",
            "'REGINA 002.JPG'\n",
            "'SAADILLAH NOER - Aku Sang Penari-.jpg'\n",
            "'SAADILLAH NOER - Format Laporan Wawancara.docx'\n",
            "\"Sa'adillah Noer_page-0001.jpg\"\n",
            "'Saadillah Noer.pdf'\n",
            "'SAADILLAH NOER - Sahabat Sejatiku.jpg'\n",
            "'SAADILLAH NOER - Untitled document.gdoc'\n",
            "'Screenshot_2020-11-24-11-13-38-74 (1).pdf'\n",
            "'Screenshot_2020-11-24-11-13-38-74 (2).pdf'\n",
            "'Screenshot_2020-11-24-11-13-38-74 (3).pdf'\n",
            " Screenshot_2020-11-24-11-13-38-74.pdf\n",
            " Screenshot_2020-11-24-11-18-22-46.pdf\n",
            " Screenshot_2021-03-16-11-02-18-54.pdf\n",
            " Screenshot_2021-03-16-15-37-12-52.pdf\n",
            "'Screenshot_2021-04-28-11-40-00-87 (1).jpg'\n",
            "'Screenshot_2021-04-28-11-40-00-87 (2).jpg'\n",
            "'Screenshot_2021-04-28-11-40-00-87 (3).jpg'\n",
            " Screenshot_2021-04-28-11-40-00-87.jpg\n",
            "'Screenshot_2021-04-28-11-40-40-86 (1).jpg'\n",
            "'Screenshot_2021-04-28-11-40-40-86 (2).jpg'\n",
            " Screenshot_2021-04-28-11-40-40-86.jpg\n",
            "'Screenshot_2021-04-28-11-42-21-75 (1).jpg'\n",
            "'Screenshot_2021-04-28-11-42-21-75 (2).jpg'\n",
            "'Screenshot_2021-04-28-11-42-21-75 (3).jpg'\n",
            " Screenshot_2021-04-28-11-42-21-75.jpg\n",
            " Screenshot_2021-06-21-13-24-34-15_254de13a4bc8758c9908fff1f73e3725.jpg\n",
            " Screenshot_2021-06-21-13-25-34-48.jpg\n",
            " Screenshot_2021-06-21-13-32-56-36_f044f8b597da55c63abe537bfb8d10b6.jpg\n",
            "'SERTIFIKAT 04.pdf'\n",
            "'SERTIFIKAT TOEFL.pdf'\n",
            " Split\n",
            "'Submission Terakhir.ipynb'\n",
            "'SURAT KETERANGAN LULUS (1).pdf'\n",
            "'SURAT KETERANGAN LULUS.pdf'\n",
            "'ULANG TAHUN'\n",
            "'V & A'\n",
            "'Wedding Hadi'\n",
            "'WISUDA UIA'\n"
          ],
          "name": "stdout"
        }
      ]
    },
    {
      "cell_type": "markdown",
      "metadata": {
        "id": "HJdvG-fGgb61"
      },
      "source": [
        "**Splitting Data**<br>"
      ]
    },
    {
      "cell_type": "code",
      "metadata": {
        "id": "6w3EEghyggU7"
      },
      "source": [
        "base_dir = \"/content/drive/MyDrive/Split\"\n",
        "data_dir = \"/content/drive/MyDrive/Dataset_img\""
      ],
      "execution_count": 14,
      "outputs": []
    },
    {
      "cell_type": "code",
      "metadata": {
        "colab": {
          "base_uri": "https://localhost:8080/"
        },
        "id": "PpgZvvlxjb1k",
        "outputId": "1e964ee7-8b1e-444c-95e9-ac855de290be"
      },
      "source": [
        "pip install split-folders"
      ],
      "execution_count": 15,
      "outputs": [
        {
          "output_type": "stream",
          "text": [
            "Collecting split-folders\n",
            "  Downloading split_folders-0.4.3-py3-none-any.whl (7.4 kB)\n",
            "Installing collected packages: split-folders\n",
            "Successfully installed split-folders-0.4.3\n"
          ],
          "name": "stdout"
        }
      ]
    },
    {
      "cell_type": "code",
      "metadata": {
        "colab": {
          "base_uri": "https://localhost:8080/"
        },
        "id": "Vzf_Lsb0jlxZ",
        "outputId": "efa60617-2cf0-4050-896b-678648cb65a4"
      },
      "source": [
        "import splitfolders\n",
        "splitfolders.ratio(data_dir, output=base_dir, seed=1337, ratio=(.60, .40))"
      ],
      "execution_count": 16,
      "outputs": [
        {
          "output_type": "stream",
          "text": [
            "Copying files: 2520 files [16:24,  2.56 files/s]\n"
          ],
          "name": "stderr"
        }
      ]
    },
    {
      "cell_type": "code",
      "metadata": {
        "colab": {
          "base_uri": "https://localhost:8080/"
        },
        "id": "duH-QCMZj6Eb",
        "outputId": "2e311c11-3073-4dbf-f002-b5cd7d4d2984"
      },
      "source": [
        "!ls Split"
      ],
      "execution_count": 18,
      "outputs": [
        {
          "output_type": "stream",
          "text": [
            "train  val\n"
          ],
          "name": "stdout"
        }
      ]
    },
    {
      "cell_type": "markdown",
      "metadata": {
        "id": "kO4-tNnHtJ1R"
      },
      "source": [
        "**Processing Data**<br>"
      ]
    },
    {
      "cell_type": "code",
      "metadata": {
        "id": "CHMF0iHjtMzE"
      },
      "source": [
        "import os\n",
        "\n",
        "train_path = os.path.join(base_dir, 'train')\n",
        "val_path = os.path.join(base_dir, 'val')"
      ],
      "execution_count": 19,
      "outputs": []
    },
    {
      "cell_type": "code",
      "metadata": {
        "colab": {
          "base_uri": "https://localhost:8080/"
        },
        "id": "KN2nIBlPuZQx",
        "outputId": "459ebffe-ea45-46ec-9c48-b262bf76925c"
      },
      "source": [
        "#Augmentasi Dataset\n",
        "from tensorflow.keras.preprocessing.image import ImageDataGenerator\n",
        "from sklearn.utils import shuffle\n",
        "\n",
        "batch_size = 16\n",
        "Augmentasi_gen = ImageDataGenerator(rescale=1. / 255,\n",
        "                                    rotation_range=20,\n",
        "                                    width_shift_range=0.2,\n",
        "                                    height_shift_range=0.2,\n",
        "                                    zoom_range=0.2,\n",
        "                                    horizontal_flip=True,\n",
        "                                    fill_mode = 'nearest')\n",
        "\n",
        "Augmentasi_genz = ImageDataGenerator(rescale=1. / 255,\n",
        "                                    rotation_range=20,\n",
        "                                    width_shift_range=0.2,\n",
        "                                    height_shift_range=0.2,\n",
        "                                    zoom_range=0.2,\n",
        "                                    horizontal_flip=True,\n",
        "                                    fill_mode = 'nearest')\n",
        "\n",
        "train_gen = Augmentasi_gen.flow_from_directory(\n",
        "    train_path,\n",
        "    class_mode = 'categorical',\n",
        "    shuffle = True,\n",
        "    target_size=(224, 224),\n",
        "    batch_size=batch_size,\n",
        "    color_mode = 'rgb'\n",
        ")\n",
        "val_gen = Augmentasi_gen.flow_from_directory(\n",
        "    val_path,\n",
        "    class_mode = 'categorical',\n",
        "    shuffle = True,\n",
        "    target_size=(224, 224),\n",
        "    batch_size=batch_size,\n",
        "    color_mode='rgb'\n",
        ")"
      ],
      "execution_count": 50,
      "outputs": [
        {
          "output_type": "stream",
          "text": [
            "Found 1512 images belonging to 3 classes.\n",
            "Found 1008 images belonging to 3 classes.\n"
          ],
          "name": "stdout"
        }
      ]
    },
    {
      "cell_type": "markdown",
      "metadata": {
        "id": "rTf3DJSuR3lT"
      },
      "source": [
        "**Arsitektur Model 3 Conv & 2 Hidden Layer**<br>"
      ]
    },
    {
      "cell_type": "code",
      "metadata": {
        "id": "UhetJvXfRZHc"
      },
      "source": [
        "import tensorflow as tf\n",
        "model = tf.keras.models.Sequential([\n",
        "                                    # bentuk input adalah ukuran gambar yang diinginkan 150x150 dengan warna 3 byte color\n",
        "                                    tf.keras.layers.Conv2D(64, (3,3), activation='relu', input_shape=(224, 224, 3)),\n",
        "                                    tf.keras.layers.MaxPooling2D(2,2),\n",
        "                                    tf.keras.layers.Conv2D(32, (3,3), strides=(1,1), activation='relu'),\n",
        "                                    tf.keras.layers.MaxPool2D(2,2),\n",
        "                                    tf.keras.layers.Dropout(0.4),\n",
        "                                    tf.keras.layers.Conv2D(64, (3,3), activation='relu'),\n",
        "                                    tf.keras.layers.MaxPool2D(2,2),\n",
        "                                    # Flatten the results to feed into a DNN\n",
        "                                    tf.keras.layers.Flatten(),\n",
        "                                    # 512 neuron hidden layer\n",
        "                                    tf.keras.layers.Dense(512, activation='relu'),\n",
        "                                    tf.keras.layers.Dense(256, activation='relu'),\n",
        "                                    # Only 1 output neuron. It will contain a value from 0-1 where 0 for 1 class ('cats') and 1 for the other ('dogs')\n",
        "                                    tf.keras.layers.Dense(3, activation='softmax')\n",
        "])\n",
        "\n"
      ],
      "execution_count": 44,
      "outputs": []
    },
    {
      "cell_type": "markdown",
      "metadata": {
        "id": "21rLI6nvd4pB"
      },
      "source": [
        "**Optimizer dan Loss**<br>"
      ]
    },
    {
      "cell_type": "code",
      "metadata": {
        "id": "JdK7FtzUd8nN"
      },
      "source": [
        "model.compile(optimizer=tf.optimizers.Adam(),\n",
        "              loss='categorical_crossentropy',\n",
        "              metrics = ['accuracy'])"
      ],
      "execution_count": 45,
      "outputs": []
    },
    {
      "cell_type": "markdown",
      "metadata": {
        "id": "xZUsESEuePe4"
      },
      "source": [
        "**Memanggil fungsi fit**<br>"
      ]
    },
    {
      "cell_type": "code",
      "metadata": {
        "colab": {
          "base_uri": "https://localhost:8080/"
        },
        "id": "GxU-x8W-eXMF",
        "outputId": "e764b51e-f6be-4c44-b76f-b2fd5ef102fc"
      },
      "source": [
        "history = model.fit(train_gen,\n",
        "                    validation_data=val_gen,\n",
        "                    epochs=10,\n",
        "                    verbose=2)"
      ],
      "execution_count": 67,
      "outputs": [
        {
          "output_type": "stream",
          "text": [
            "Epoch 1/10\n",
            "95/95 - 34s - loss: 0.3204 - accuracy: 0.8942 - val_loss: 0.3535 - val_accuracy: 0.9048\n",
            "Epoch 2/10\n",
            "95/95 - 33s - loss: 0.2749 - accuracy: 0.8988 - val_loss: 0.2804 - val_accuracy: 0.8998\n",
            "Epoch 3/10\n",
            "95/95 - 34s - loss: 0.2703 - accuracy: 0.9008 - val_loss: 0.3036 - val_accuracy: 0.9177\n",
            "Epoch 4/10\n",
            "95/95 - 33s - loss: 0.2531 - accuracy: 0.9094 - val_loss: 0.2196 - val_accuracy: 0.9296\n",
            "Epoch 5/10\n",
            "95/95 - 33s - loss: 0.2630 - accuracy: 0.9041 - val_loss: 0.2513 - val_accuracy: 0.9315\n",
            "Epoch 6/10\n",
            "95/95 - 33s - loss: 0.1723 - accuracy: 0.9444 - val_loss: 0.1961 - val_accuracy: 0.9425\n",
            "Epoch 7/10\n",
            "95/95 - 33s - loss: 0.1822 - accuracy: 0.9425 - val_loss: 0.2784 - val_accuracy: 0.8948\n",
            "Epoch 8/10\n",
            "95/95 - 33s - loss: 0.3143 - accuracy: 0.8730 - val_loss: 0.9455 - val_accuracy: 0.5198\n",
            "Epoch 9/10\n",
            "95/95 - 33s - loss: 0.3148 - accuracy: 0.8816 - val_loss: 0.2504 - val_accuracy: 0.9484\n",
            "Epoch 10/10\n",
            "95/95 - 34s - loss: 0.1916 - accuracy: 0.9392 - val_loss: 0.2309 - val_accuracy: 0.9306\n"
          ],
          "name": "stdout"
        }
      ]
    },
    {
      "cell_type": "markdown",
      "metadata": {
        "id": "BHKXTt6uhKWJ"
      },
      "source": [
        "**Plot Akurasi Model**"
      ]
    },
    {
      "cell_type": "code",
      "metadata": {
        "colab": {
          "base_uri": "https://localhost:8080/",
          "height": 295
        },
        "id": "n1nnGuJ8eWTn",
        "outputId": "f7778070-cffb-4e4a-dc80-067bb23de270"
      },
      "source": [
        "#Plot akurasi dari model\n",
        "import matplotlib.pyplot as plt\n",
        "plt.plot(history.history['accuracy'])\n",
        "plt.plot(history.history['val_accuracy'])\n",
        "plt.title('Akurasi Model')\n",
        "plt.ylabel('accuracy')\n",
        "plt.xlabel('epoch')\n",
        "plt.legend(['train', 'test'], loc='upper left')\n",
        "plt.show()"
      ],
      "execution_count": 74,
      "outputs": [
        {
          "output_type": "display_data",
          "data": {
            "image/png": "[encoded data removed]",
            "text/plain": [
              "<Figure size 432x288 with 1 Axes>"
            ]
          },
          "metadata": {
            "tags": [],
            "needs_background": "light"
          }
        }
      ]
    },
    {
      "cell_type": "markdown",
      "metadata": {
        "id": "ndSoHTYchO6N"
      },
      "source": [
        "**Plot Akurasi Loss**"
      ]
    },
    {
      "cell_type": "code",
      "metadata": {
        "colab": {
          "base_uri": "https://localhost:8080/",
          "height": 295
        },
        "id": "eQidWnDvhSJ3",
        "outputId": "ba5007a1-e051-4718-dbc1-f14c9e34b811"
      },
      "source": [
        "plt.plot(history.history['loss'])\n",
        "plt.plot(history.history['val_loss'])\n",
        "plt.title('Loss Model')\n",
        "plt.ylabel('loss')\n",
        "plt.xlabel('epoch')\n",
        "plt.legend(['train', 'test'], loc='upper left')\n",
        "plt.show()"
      ],
      "execution_count": 75,
      "outputs": [
        {
          "output_type": "display_data",
          "data": {
            "image/png": "[encoded data removed]",
            "text/plain": [
              "<Figure size 432x288 with 1 Axes>"
            ]
          },
          "metadata": {
            "tags": [],
            "needs_background": "light"
          }
        }
      ]
    },
    {
      "cell_type": "markdown",
      "metadata": {
        "id": "q5ZprtUUkK80"
      },
      "source": [
        "**Menyimpan model kedalam TF.Lite**"
      ]
    },
    {
      "cell_type": "code",
      "metadata": {
        "colab": {
          "base_uri": "https://localhost:8080/"
        },
        "id": "nD-oQ4Sal4Tk",
        "outputId": "e0ca3b74-bde5-4059-d37e-d4cf4a118059"
      },
      "source": [
        "converter_model = tf.lite.TFLiteConverter.from_keras_model(model)\n",
        "tflite_model = converter_model.convert()\n",
        "# Save the model.\n",
        "with open('model.tflite', 'wb') as f:\n",
        "  f.write(tflite_model)\n",
        "\n",
        "model.save('model xor.h5')"
      ],
      "execution_count": 77,
      "outputs": [
        {
          "output_type": "stream",
          "text": [
            "INFO:tensorflow:Assets written to: /tmp/tmptp26iss5/assets\n"
          ],
          "name": "stdout"
        },
        {
          "output_type": "stream",
          "text": [
            "INFO:tensorflow:Assets written to: /tmp/tmptp26iss5/assets\n"
          ],
          "name": "stderr"
        }
      ]
    },
    {
      "cell_type": "markdown",
      "metadata": {
        "id": "zpvhXOUQt1pl"
      },
      "source": [
        "**Pisahkan Dataset dan Train set**"
      ]
    },
    {
      "cell_type": "code",
      "metadata": {
        "colab": {
          "base_uri": "https://localhost:8080/"
        },
        "id": "RevBIzTjx_LY",
        "outputId": "f8c91901-8700-43e8-a98a-2ce17196841a"
      },
      "source": [
        "EPOCH = 10\n",
        "history = model.fit(x=train_gen,\n",
        "        steps_per_epoch=len(train_gen),\n",
        "        epochs=EPOCH,\n",
        "        validation_data=val_gen,\n",
        "        validation_steps=len(val_gen),\n",
        "        shuffle=True,\n",
        "        verbose = 2)"
      ],
      "execution_count": 85,
      "outputs": [
        {
          "output_type": "stream",
          "text": [
            "Epoch 1/10\n",
            "95/95 - 34s - loss: 0.1813 - accuracy: 0.9352 - val_loss: 0.2015 - val_accuracy: 0.9365\n",
            "Epoch 2/10\n",
            "95/95 - 32s - loss: 0.1938 - accuracy: 0.9372 - val_loss: 0.1939 - val_accuracy: 0.9474\n",
            "Epoch 3/10\n",
            "95/95 - 34s - loss: 0.1727 - accuracy: 0.9372 - val_loss: 0.2252 - val_accuracy: 0.9196\n",
            "Epoch 4/10\n",
            "95/95 - 32s - loss: 0.2933 - accuracy: 0.8770 - val_loss: 1.0767 - val_accuracy: 0.4355\n",
            "Epoch 5/10\n",
            "95/95 - 34s - loss: 0.4423 - accuracy: 0.7890 - val_loss: 0.2115 - val_accuracy: 0.9216\n",
            "Epoch 6/10\n",
            "95/95 - 34s - loss: 0.1549 - accuracy: 0.9497 - val_loss: 0.1846 - val_accuracy: 0.9464\n",
            "Epoch 7/10\n",
            "95/95 - 32s - loss: 0.1189 - accuracy: 0.9597 - val_loss: 0.1362 - val_accuracy: 0.9643\n",
            "Epoch 8/10\n",
            "95/95 - 34s - loss: 0.1559 - accuracy: 0.9524 - val_loss: 0.1969 - val_accuracy: 0.9355\n",
            "Epoch 9/10\n",
            "95/95 - 32s - loss: 0.3080 - accuracy: 0.8737 - val_loss: 0.6402 - val_accuracy: 0.6825\n",
            "Epoch 10/10\n",
            "95/95 - 34s - loss: 0.2206 - accuracy: 0.9120 - val_loss: 0.1907 - val_accuracy: 0.9435\n"
          ],
          "name": "stdout"
        }
      ]
    },
    {
      "cell_type": "markdown",
      "metadata": {
        "id": "DL4glJDFC91C"
      },
      "source": [
        "**Model Callback**<br>"
      ]
    },
    {
      "cell_type": "code",
      "metadata": {
        "id": "DG_CA9aUDC6X"
      },
      "source": [
        "class myCallback(tf.keras.callbacks.Callback):\n",
        "  def on_epoch_end(self, epoch, logs={}):\n",
        "    if(logs.get('accuracy')>0.91 and logs.get('val_accuracy')>0.94):\n",
        "      print(\"\\nAccuracy above 91%, finish training!\")\n",
        "      self.model.stop_training = True\n",
        "\n",
        "callbacks = myCallback()"
      ],
      "execution_count": 46,
      "outputs": []
    }
  ]
}